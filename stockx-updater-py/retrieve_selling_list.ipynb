{
 "cells": [
  {
   "cell_type": "code",
   "execution_count": 10,
   "metadata": {},
   "outputs": [],
   "source": [
    "from selenium.webdriver.support.ui import WebDriverWait\n",
    "from selenium import webdriver\n",
    "from selenium.common.exceptions import TimeoutException\n",
    "from selenium.webdriver.support import expected_conditions as EC\n",
    "from selenium.webdriver.common.by import By\n",
    "import aiohttp\n",
    "from pathlib import Path\n",
    "import time\n",
    "import pickle\n",
    "import json"
   ]
  },
  {
   "cell_type": "code",
   "execution_count": 2,
   "metadata": {},
   "outputs": [],
   "source": [
    "tcp_connector = aiohttp.TCPConnector(limit=None, limit_per_host=0, ssl=False)\n",
    "session = aiohttp.ClientSession(connector=tcp_connector)"
   ]
  },
  {
   "cell_type": "code",
   "execution_count": 3,
   "metadata": {},
   "outputs": [],
   "source": [
    "home = str(Path.home())\n",
    "chrome_download_directory = home + '/chromedriver-download-folder'\n",
    "chromeOptions = webdriver.ChromeOptions()\n",
    "chrome_download_directory = \"\"\n",
    "prefs = {\"download.default_directory\" : chrome_download_directory}\n",
    "chromeOptions.add_experimental_option(\"prefs\",prefs)\n",
    "chromeOptions.add_argument('ignore-certificate-errors')\n",
    "driver = webdriver.Chrome(executable_path=\"/Users/wangrz1/Work/Business/JHUAPL/repos/covid-data-pipeline-local-files/chromedriver\", options=chromeOptions)"
   ]
  },
  {
   "cell_type": "code",
   "execution_count": 60,
   "metadata": {},
   "outputs": [],
   "source": [
    "email = 'roman.transactions@gmail.com'\n",
    "password = 'fucjyg-wymqak-7mAjko'"
   ]
  },
  {
   "cell_type": "code",
   "execution_count": 4,
   "metadata": {},
   "outputs": [],
   "source": [
    "url = \"https://stockx.com/\"\n",
    "url_selling = \"https://stockx.com/selling\""
   ]
  },
  {
   "cell_type": "code",
   "execution_count": 5,
   "metadata": {},
   "outputs": [],
   "source": [
    "driver.get(url)"
   ]
  },
  {
   "cell_type": "code",
   "execution_count": 55,
   "metadata": {},
   "outputs": [],
   "source": [
    "def find_and_click(xpath):\n",
    "    element = driver.find_element_by_xpath(xpath)\n",
    "    element.click()"
   ]
  },
  {
   "cell_type": "code",
   "execution_count": 56,
   "metadata": {},
   "outputs": [],
   "source": [
    "find_and_click('//*[@id=\"nav-login\"]')"
   ]
  },
  {
   "cell_type": "code",
   "execution_count": 57,
   "metadata": {},
   "outputs": [],
   "source": [
    "def find_and_type(xpath, text):\n",
    "    element = driver.find_element_by_xpath(xpath)\n",
    "    element.send_keys(text)"
   ]
  },
  {
   "cell_type": "code",
   "execution_count": 58,
   "metadata": {},
   "outputs": [],
   "source": [
    "find_and_type('//*[@id=\"email-login\"]', email)\n",
    "find_and_type('//*[@id=\"password-login\"]', password)"
   ]
  },
  {
   "cell_type": "code",
   "execution_count": 59,
   "metadata": {},
   "outputs": [
    {
     "ename": "ElementClickInterceptedException",
     "evalue": "Message: element click intercepted: Element is not clickable at point (600, 990)\n  (Session info: chrome=88.0.4324.96)\n",
     "output_type": "error",
     "traceback": [
      "\u001b[0;31m---------------------------------------------------------------------------\u001b[0m",
      "\u001b[0;31mElementClickInterceptedException\u001b[0m          Traceback (most recent call last)",
      "\u001b[0;32m<ipython-input-59-1294cea8631b>\u001b[0m in \u001b[0;36m<module>\u001b[0;34m\u001b[0m\n\u001b[0;32m----> 1\u001b[0;31m \u001b[0mfind_and_click\u001b[0m\u001b[0;34m(\u001b[0m\u001b[0;34m'//*[@id=\"login-button-text\"]'\u001b[0m\u001b[0;34m)\u001b[0m\u001b[0;34m\u001b[0m\u001b[0;34m\u001b[0m\u001b[0m\n\u001b[0m",
      "\u001b[0;32m<ipython-input-55-c37d00661744>\u001b[0m in \u001b[0;36mfind_and_click\u001b[0;34m(xpath)\u001b[0m\n\u001b[1;32m      1\u001b[0m \u001b[0;32mdef\u001b[0m \u001b[0mfind_and_click\u001b[0m\u001b[0;34m(\u001b[0m\u001b[0mxpath\u001b[0m\u001b[0;34m)\u001b[0m\u001b[0;34m:\u001b[0m\u001b[0;34m\u001b[0m\u001b[0;34m\u001b[0m\u001b[0m\n\u001b[1;32m      2\u001b[0m     \u001b[0melement\u001b[0m \u001b[0;34m=\u001b[0m \u001b[0mdriver\u001b[0m\u001b[0;34m.\u001b[0m\u001b[0mfind_element_by_xpath\u001b[0m\u001b[0;34m(\u001b[0m\u001b[0mxpath\u001b[0m\u001b[0;34m)\u001b[0m\u001b[0;34m\u001b[0m\u001b[0;34m\u001b[0m\u001b[0m\n\u001b[0;32m----> 3\u001b[0;31m     \u001b[0melement\u001b[0m\u001b[0;34m.\u001b[0m\u001b[0mclick\u001b[0m\u001b[0;34m(\u001b[0m\u001b[0;34m)\u001b[0m\u001b[0;34m\u001b[0m\u001b[0;34m\u001b[0m\u001b[0m\n\u001b[0m",
      "\u001b[0;32m~/opt/anaconda3/envs/stockx/lib/python3.7/site-packages/selenium/webdriver/remote/webelement.py\u001b[0m in \u001b[0;36mclick\u001b[0;34m(self)\u001b[0m\n\u001b[1;32m     78\u001b[0m     \u001b[0;32mdef\u001b[0m \u001b[0mclick\u001b[0m\u001b[0;34m(\u001b[0m\u001b[0mself\u001b[0m\u001b[0;34m)\u001b[0m\u001b[0;34m:\u001b[0m\u001b[0;34m\u001b[0m\u001b[0;34m\u001b[0m\u001b[0m\n\u001b[1;32m     79\u001b[0m         \u001b[0;34m\"\"\"Clicks the element.\"\"\"\u001b[0m\u001b[0;34m\u001b[0m\u001b[0;34m\u001b[0m\u001b[0m\n\u001b[0;32m---> 80\u001b[0;31m         \u001b[0mself\u001b[0m\u001b[0;34m.\u001b[0m\u001b[0m_execute\u001b[0m\u001b[0;34m(\u001b[0m\u001b[0mCommand\u001b[0m\u001b[0;34m.\u001b[0m\u001b[0mCLICK_ELEMENT\u001b[0m\u001b[0;34m)\u001b[0m\u001b[0;34m\u001b[0m\u001b[0;34m\u001b[0m\u001b[0m\n\u001b[0m\u001b[1;32m     81\u001b[0m \u001b[0;34m\u001b[0m\u001b[0m\n\u001b[1;32m     82\u001b[0m     \u001b[0;32mdef\u001b[0m \u001b[0msubmit\u001b[0m\u001b[0;34m(\u001b[0m\u001b[0mself\u001b[0m\u001b[0;34m)\u001b[0m\u001b[0;34m:\u001b[0m\u001b[0;34m\u001b[0m\u001b[0;34m\u001b[0m\u001b[0m\n",
      "\u001b[0;32m~/opt/anaconda3/envs/stockx/lib/python3.7/site-packages/selenium/webdriver/remote/webelement.py\u001b[0m in \u001b[0;36m_execute\u001b[0;34m(self, command, params)\u001b[0m\n\u001b[1;32m    631\u001b[0m             \u001b[0mparams\u001b[0m \u001b[0;34m=\u001b[0m \u001b[0;34m{\u001b[0m\u001b[0;34m}\u001b[0m\u001b[0;34m\u001b[0m\u001b[0;34m\u001b[0m\u001b[0m\n\u001b[1;32m    632\u001b[0m         \u001b[0mparams\u001b[0m\u001b[0;34m[\u001b[0m\u001b[0;34m'id'\u001b[0m\u001b[0;34m]\u001b[0m \u001b[0;34m=\u001b[0m \u001b[0mself\u001b[0m\u001b[0;34m.\u001b[0m\u001b[0m_id\u001b[0m\u001b[0;34m\u001b[0m\u001b[0;34m\u001b[0m\u001b[0m\n\u001b[0;32m--> 633\u001b[0;31m         \u001b[0;32mreturn\u001b[0m \u001b[0mself\u001b[0m\u001b[0;34m.\u001b[0m\u001b[0m_parent\u001b[0m\u001b[0;34m.\u001b[0m\u001b[0mexecute\u001b[0m\u001b[0;34m(\u001b[0m\u001b[0mcommand\u001b[0m\u001b[0;34m,\u001b[0m \u001b[0mparams\u001b[0m\u001b[0;34m)\u001b[0m\u001b[0;34m\u001b[0m\u001b[0;34m\u001b[0m\u001b[0m\n\u001b[0m\u001b[1;32m    634\u001b[0m \u001b[0;34m\u001b[0m\u001b[0m\n\u001b[1;32m    635\u001b[0m     \u001b[0;32mdef\u001b[0m \u001b[0mfind_element\u001b[0m\u001b[0;34m(\u001b[0m\u001b[0mself\u001b[0m\u001b[0;34m,\u001b[0m \u001b[0mby\u001b[0m\u001b[0;34m=\u001b[0m\u001b[0mBy\u001b[0m\u001b[0;34m.\u001b[0m\u001b[0mID\u001b[0m\u001b[0;34m,\u001b[0m \u001b[0mvalue\u001b[0m\u001b[0;34m=\u001b[0m\u001b[0;32mNone\u001b[0m\u001b[0;34m)\u001b[0m\u001b[0;34m:\u001b[0m\u001b[0;34m\u001b[0m\u001b[0;34m\u001b[0m\u001b[0m\n",
      "\u001b[0;32m~/opt/anaconda3/envs/stockx/lib/python3.7/site-packages/selenium/webdriver/remote/webdriver.py\u001b[0m in \u001b[0;36mexecute\u001b[0;34m(self, driver_command, params)\u001b[0m\n\u001b[1;32m    319\u001b[0m         \u001b[0mresponse\u001b[0m \u001b[0;34m=\u001b[0m \u001b[0mself\u001b[0m\u001b[0;34m.\u001b[0m\u001b[0mcommand_executor\u001b[0m\u001b[0;34m.\u001b[0m\u001b[0mexecute\u001b[0m\u001b[0;34m(\u001b[0m\u001b[0mdriver_command\u001b[0m\u001b[0;34m,\u001b[0m \u001b[0mparams\u001b[0m\u001b[0;34m)\u001b[0m\u001b[0;34m\u001b[0m\u001b[0;34m\u001b[0m\u001b[0m\n\u001b[1;32m    320\u001b[0m         \u001b[0;32mif\u001b[0m \u001b[0mresponse\u001b[0m\u001b[0;34m:\u001b[0m\u001b[0;34m\u001b[0m\u001b[0;34m\u001b[0m\u001b[0m\n\u001b[0;32m--> 321\u001b[0;31m             \u001b[0mself\u001b[0m\u001b[0;34m.\u001b[0m\u001b[0merror_handler\u001b[0m\u001b[0;34m.\u001b[0m\u001b[0mcheck_response\u001b[0m\u001b[0;34m(\u001b[0m\u001b[0mresponse\u001b[0m\u001b[0;34m)\u001b[0m\u001b[0;34m\u001b[0m\u001b[0;34m\u001b[0m\u001b[0m\n\u001b[0m\u001b[1;32m    322\u001b[0m             response['value'] = self._unwrap_value(\n\u001b[1;32m    323\u001b[0m                 response.get('value', None))\n",
      "\u001b[0;32m~/opt/anaconda3/envs/stockx/lib/python3.7/site-packages/selenium/webdriver/remote/errorhandler.py\u001b[0m in \u001b[0;36mcheck_response\u001b[0;34m(self, response)\u001b[0m\n\u001b[1;32m    240\u001b[0m                 \u001b[0malert_text\u001b[0m \u001b[0;34m=\u001b[0m \u001b[0mvalue\u001b[0m\u001b[0;34m[\u001b[0m\u001b[0;34m'alert'\u001b[0m\u001b[0;34m]\u001b[0m\u001b[0;34m.\u001b[0m\u001b[0mget\u001b[0m\u001b[0;34m(\u001b[0m\u001b[0;34m'text'\u001b[0m\u001b[0;34m)\u001b[0m\u001b[0;34m\u001b[0m\u001b[0;34m\u001b[0m\u001b[0m\n\u001b[1;32m    241\u001b[0m             \u001b[0;32mraise\u001b[0m \u001b[0mexception_class\u001b[0m\u001b[0;34m(\u001b[0m\u001b[0mmessage\u001b[0m\u001b[0;34m,\u001b[0m \u001b[0mscreen\u001b[0m\u001b[0;34m,\u001b[0m \u001b[0mstacktrace\u001b[0m\u001b[0;34m,\u001b[0m \u001b[0malert_text\u001b[0m\u001b[0;34m)\u001b[0m\u001b[0;34m\u001b[0m\u001b[0;34m\u001b[0m\u001b[0m\n\u001b[0;32m--> 242\u001b[0;31m         \u001b[0;32mraise\u001b[0m \u001b[0mexception_class\u001b[0m\u001b[0;34m(\u001b[0m\u001b[0mmessage\u001b[0m\u001b[0;34m,\u001b[0m \u001b[0mscreen\u001b[0m\u001b[0;34m,\u001b[0m \u001b[0mstacktrace\u001b[0m\u001b[0;34m)\u001b[0m\u001b[0;34m\u001b[0m\u001b[0;34m\u001b[0m\u001b[0m\n\u001b[0m\u001b[1;32m    243\u001b[0m \u001b[0;34m\u001b[0m\u001b[0m\n\u001b[1;32m    244\u001b[0m     \u001b[0;32mdef\u001b[0m \u001b[0m_value_or_default\u001b[0m\u001b[0;34m(\u001b[0m\u001b[0mself\u001b[0m\u001b[0;34m,\u001b[0m \u001b[0mobj\u001b[0m\u001b[0;34m,\u001b[0m \u001b[0mkey\u001b[0m\u001b[0;34m,\u001b[0m \u001b[0mdefault\u001b[0m\u001b[0;34m)\u001b[0m\u001b[0;34m:\u001b[0m\u001b[0;34m\u001b[0m\u001b[0;34m\u001b[0m\u001b[0m\n",
      "\u001b[0;31mElementClickInterceptedException\u001b[0m: Message: element click intercepted: Element is not clickable at point (600, 990)\n  (Session info: chrome=88.0.4324.96)\n"
     ]
    }
   ],
   "source": [
    "find_and_click('//*[@id=\"login-button-text\"]')"
   ]
  },
  {
   "cell_type": "code",
   "execution_count": null,
   "metadata": {},
   "outputs": [],
   "source": [
    "driver.get(url_selling)"
   ]
  },
  {
   "cell_type": "code",
   "execution_count": null,
   "metadata": {},
   "outputs": [],
   "source": [
    "def scroll_down_until_all_loaded():\n",
    "    def scroll_down():\n",
    "        # Get scroll height\n",
    "        last_height = driver.execute_script(\"return document.body.scrollHeight\")\n",
    "        while True:\n",
    "            # Scroll down to bottom\n",
    "            driver.execute_script(\"window.scrollTo(0, document.body.scrollHeight);\")\n",
    "\n",
    "            # Wait to load page\n",
    "            time.sleep(SCROLL_PAUSE_TIME)\n",
    "\n",
    "            # Calculate new scroll height and compare with last scroll height\n",
    "            new_height = driver.execute_script(\"return document.body.scrollHeight\")\n",
    "            if new_height == last_height:\n",
    "                break\n",
    "            last_height = new_height\n",
    "\n",
    "    SCROLL_PAUSE_TIME = 0.5\n",
    "    LOADING_PAUSE_TIME = 10\n",
    "    \n",
    "    while True:\n",
    "        last_height = driver.execute_script(\"return document.body.scrollHeight\")\n",
    "        scroll_down()\n",
    "        time.sleep(LOADING_PAUSE_TIME)\n",
    "        new_height = driver.execute_script(\"return document.body.scrollHeight\")\n",
    "        if new_height == last_height:\n",
    "            break        "
   ]
  },
  {
   "cell_type": "code",
   "execution_count": 70,
   "metadata": {},
   "outputs": [],
   "source": [
    "scroll_down_until_all_loaded()"
   ]
  },
  {
   "cell_type": "code",
   "execution_count": 79,
   "metadata": {
    "scrolled": false
   },
   "outputs": [],
   "source": [
    "selling_list_table = driver.find_element_by_xpath('/html/body/div[1]/div[1]/div[2]/div[2]/div[3]/div[2]/div[2]/div[1]/div/div/div/table')\n",
    "trs = selling_list_table.find_elements_by_tag_name('tr')\n",
    "selling_list = []\n",
    "for index, row in enumerate(trs):\n",
    "    if index != 0:\n",
    "        link = row.find_element_by_xpath('.//td[1]/span/div/span[1]/a').get_attribute('href')\n",
    "        size = row.find_elements_by_xpath('.//td[1]/span/div/span[2]/div')[0].text if row.find_elements_by_xpath('.//td[1]/span/div/span[2]/div') else \"N/A\"\n",
    "        ask_price = row.find_element_by_xpath('.//td[2]').text\n",
    "        highest_bid = row.find_element_by_xpath('.//td[3]').text\n",
    "        lowest_ask = row.find_element_by_xpath('.//td[4]').text\n",
    "        spread = row.find_element_by_xpath('.//td[5]').text\n",
    "        expires = row.find_element_by_xpath('.//td[6]').text\n",
    "        \n",
    "        selling_list.append({\n",
    "            'link': link,\n",
    "            'size': size,\n",
    "            'ask_price': ask_price,\n",
    "            'highest_bid': highest_bid,\n",
    "            'lowest_ask': lowest_ask,\n",
    "            'spread': spread,\n",
    "            'expires': expires\n",
    "        })"
   ]
  },
  {
   "cell_type": "code",
   "execution_count": null,
   "metadata": {},
   "outputs": [],
   "source": [
    "for item in selling_list:\n",
    "    item['size'] = item['size'].replace('Size: ', '')\n",
    "    item['ask_price'] = int(item['ask_price'].replace('$', '')) if item['ask_price'] != '--' else -1\n",
    "    item['highest_bid'] = int(item['highest_bid'].replace('$', '')) if item['highest_bid'] != '--' else -1\n",
    "    item['lowest_ask'] = int(item['lowest_ask'].replace('$', '')) if item['lowest_ask'] != '--' else -1\n",
    "    item['spread'] = int(item['spread'].replace('$', '')) if item['spread'] != '--' else -1\n",
    "    item['size'] = item['size'].replace('Size: ', '')\n",
    "    print(item)"
   ]
  },
  {
   "cell_type": "code",
   "execution_count": 80,
   "metadata": {},
   "outputs": [
    {
     "name": "stdout",
     "output_type": "stream",
     "text": [
      "[{'link': 'https://stockx.com/palace-ye-ham-shirt-indigo?size=S', 'size': 'Size: S', 'ask_price': '$179', 'highest_bid': '$50', 'lowest_ask': '$179', 'spread': ' $128', 'expires': '29 days'}, {'link': 'https://stockx.com/supreme-terry-s-s-zip-up-white?size=S', 'size': 'Size: S', 'ask_price': '$196', 'highest_bid': '$15', 'lowest_ask': '$196', 'spread': ' $181', 'expires': '29 days'}, {'link': 'https://stockx.com/ftp-10-year-jacket-black?size=M', 'size': 'Size: M', 'ask_price': '$149', 'highest_bid': '--', 'lowest_ask': '$149', 'spread': '--', 'expires': '29 days'}, {'link': 'https://stockx.com/supreme-utility-belted-pant-black?size=S', 'size': 'Size: S', 'ask_price': '$153', 'highest_bid': '$61', 'lowest_ask': '$153', 'spread': ' $91', 'expires': '29 days'}, {'link': 'https://stockx.com/palace-bare-storage-jacket-flint-grey?size=M', 'size': 'Size: M', 'ask_price': '$395', 'highest_bid': '$337', 'lowest_ask': '$350', 'spread': ' $58', 'expires': '29 days'}, {'link': 'https://stockx.com/supreme-stone-washed-slim-jean-fw20-stone-washed-indigo?size=30', 'size': 'Size: 30', 'ask_price': '$229', 'highest_bid': '$38', 'lowest_ask': '$229', 'spread': ' $191', 'expires': '29 days'}, {'link': 'https://stockx.com/ftp-allover-tee-olive?size=L', 'size': 'Size: L', 'ask_price': '$114', 'highest_bid': '$48', 'lowest_ask': '$80', 'spread': ' $66', 'expires': '29 days'}, {'link': 'https://stockx.com/supreme-ichi-the-killer-l-s-tee-light-purple?size=XL', 'size': 'Size: XL', 'ask_price': '$144', 'highest_bid': '$82', 'lowest_ask': '$144', 'spread': ' $62', 'expires': '29 days'}, {'link': 'https://stockx.com/palace-tri-chenille-hood-navy?size=M', 'size': 'Size: M', 'ask_price': '$189', 'highest_bid': '$166', 'lowest_ask': '$188', 'spread': ' $22', 'expires': '29 days'}, {'link': 'https://stockx.com/supreme-crossover-hooded-sweatshirt-natural?size=L', 'size': 'Size: L', 'ask_price': '$235', 'highest_bid': '$200', 'lowest_ask': '$235', 'spread': ' $35', 'expires': '29 days'}, {'link': 'https://stockx.com/kith-5-borough-brooklyn-tee-white?size=XS', 'size': 'Size: XS', 'ask_price': '$114', 'highest_bid': '$51', 'lowest_ask': '$114', 'spread': ' $63', 'expires': '29 days'}, {'link': 'https://stockx.com/palace-lon-dons-short-black?size=M', 'size': 'Size: M', 'ask_price': '$193', 'highest_bid': '$35', 'lowest_ask': '$193', 'spread': ' $158', 'expires': '29 days'}, {'link': 'https://stockx.com/supreme-blocked-stripe-s-s-top-peach?size=XL', 'size': 'Size: XL', 'ask_price': '$98', 'highest_bid': '$15', 'lowest_ask': '$98', 'spread': ' $83', 'expires': '29 days'}, {'link': 'https://stockx.com/kith-5-borough-manhattan-tee-white?size=S', 'size': 'Size: S', 'ask_price': '$119', 'highest_bid': '$51', 'lowest_ask': '$119', 'spread': ' $68', 'expires': '29 days'}, {'link': 'https://stockx.com/palace-lon-dons-crew-black?size=L', 'size': 'Size: L', 'ask_price': '$248', 'highest_bid': '$120', 'lowest_ask': '$248', 'spread': ' $128', 'expires': '29 days'}, {'link': 'https://stockx.com/supreme-overdyed-beanie-ss20-black', 'size': 'N/A', 'ask_price': '$90', 'highest_bid': '$91', 'lowest_ask': '$100', 'spread': ' -$1', 'expires': 'EXPIRED'}, {'link': 'https://stockx.com/palace-pealed-jogger-grey?size=S', 'size': 'Size: S', 'ask_price': '$257', 'highest_bid': '$15', 'lowest_ask': '--', 'spread': ' $242', 'expires': 'EXPIRED'}, {'link': 'https://stockx.com/palace-hesh-mit-fresh-hood-black?size=M', 'size': 'Size: M', 'ask_price': '$309', 'highest_bid': '$231', 'lowest_ask': '$325', 'spread': ' $78', 'expires': 'EXPIRED'}, {'link': 'https://stockx.com/palace-pealed-hood-grey?size=M', 'size': 'Size: M', 'ask_price': '$229', 'highest_bid': '$60', 'lowest_ask': '$220', 'spread': ' $169', 'expires': 'EXPIRED'}, {'link': 'https://stockx.com/supreme-yohji-yamamoto-crewneck-orange?size=L', 'size': 'Size: L', 'ask_price': '$189', 'highest_bid': '$100', 'lowest_ask': '$169', 'spread': ' $89', 'expires': 'EXPIRED'}, {'link': 'https://stockx.com/palace-tri-chenille-hood-black?size=M', 'size': 'Size: M', 'ask_price': '$197', 'highest_bid': '$143', 'lowest_ask': '$239', 'spread': ' $54', 'expires': 'EXPIRED'}, {'link': 'https://stockx.com/supreme-motion-logo-tee-ss20-yellow?size=XL', 'size': 'Size: XL', 'ask_price': '$149', 'highest_bid': '$70', 'lowest_ask': '$92', 'spread': ' $79', 'expires': 'EXPIRED'}, {'link': 'https://stockx.com/supreme-the-north-face-cargo-jacket-black?size=M', 'size': 'Size: M', 'ask_price': '$589', 'highest_bid': '$521', 'lowest_ask': '$530', 'spread': ' $68', 'expires': 'EXPIRED'}, {'link': 'https://stockx.com/palace-pealed-hood-blue?size=L', 'size': 'Size: L', 'ask_price': '$218', 'highest_bid': '$110', 'lowest_ask': '$195', 'spread': ' $108', 'expires': 'EXPIRED'}, {'link': 'https://stockx.com/palace-pealed-hood-desert?size=XL', 'size': 'Size: XL', 'ask_price': '$229', 'highest_bid': '$60', 'lowest_ask': '$180', 'spread': ' $169', 'expires': 'EXPIRED'}, {'link': 'https://stockx.com/supreme-daniel-johnston-hooded-sweatshirt-black?size=XL', 'size': 'Size: XL', 'ask_price': '$164', 'highest_bid': '$142', 'lowest_ask': '$185', 'spread': ' $22', 'expires': 'EXPIRED'}, {'link': 'https://stockx.com/supreme-franklin-hooded-sweatshirt-washed-navy?size=L', 'size': 'Size: L', 'ask_price': '$189', 'highest_bid': '$105', 'lowest_ask': '$179', 'spread': ' $83', 'expires': 'EXPIRED'}, {'link': 'https://stockx.com/supreme-futura-logo-keychain-red', 'size': 'N/A', 'ask_price': '$29', 'highest_bid': '--', 'lowest_ask': '$23', 'spread': '--', 'expires': 'EXPIRED'}, {'link': 'https://stockx.com/supreme-new-era-s-logo-beanie-fw20-white', 'size': 'N/A', 'ask_price': '$99', 'highest_bid': '$65', 'lowest_ask': '$83', 'spread': ' $34', 'expires': 'EXPIRED'}, {'link': 'https://stockx.com/kith-x-coca-cola-m2-pickup-diecast-replica', 'size': 'N/A', 'ask_price': '$55', 'highest_bid': '$35', 'lowest_ask': '$48', 'spread': ' $20', 'expires': 'EXPIRED'}, {'link': 'https://stockx.com/supreme-waves-work-jacket-black?size=L', 'size': 'Size: L', 'ask_price': '$249', 'highest_bid': '$170', 'lowest_ask': '$185', 'spread': ' $79', 'expires': 'EXPIRED'}, {'link': 'https://stockx.com/supreme-backpack-ss20-black', 'size': 'N/A', 'ask_price': '$299', 'highest_bid': '$180', 'lowest_ask': '$227', 'spread': ' $119', 'expires': 'EXPIRED'}, {'link': 'https://stockx.com/supreme-backpack-ss20-blue-desert-camo', 'size': 'N/A', 'ask_price': '$299', 'highest_bid': '$135', 'lowest_ask': '$210', 'spread': ' $164', 'expires': 'EXPIRED'}, {'link': 'https://stockx.com/supreme-backpack-ss20-blue-desert-camo', 'size': 'N/A', 'ask_price': '$299', 'highest_bid': '$135', 'lowest_ask': '$210', 'spread': ' $164', 'expires': 'EXPIRED'}, {'link': 'https://stockx.com/supreme-waist-bag-fw20-black', 'size': 'N/A', 'ask_price': '$179', 'highest_bid': '$88', 'lowest_ask': '$99', 'spread': ' $91', 'expires': 'EXPIRED'}, {'link': 'https://stockx.com/supreme-sling-bag-leopard', 'size': 'N/A', 'ask_price': '$199', 'highest_bid': '$80', 'lowest_ask': '$89', 'spread': ' $119', 'expires': 'EXPIRED'}, {'link': 'https://stockx.com/supreme-top-of-the-world-s-s-top-dark-teal?size=XL', 'size': 'Size: XL', 'ask_price': '$129', 'highest_bid': '$15', 'lowest_ask': '$120', 'spread': ' $114', 'expires': 'EXPIRED'}, {'link': 'https://stockx.com/supreme-waist-bag-fw20-black', 'size': 'N/A', 'ask_price': '$189', 'highest_bid': '$88', 'lowest_ask': '$99', 'spread': ' $101', 'expires': 'EXPIRED'}, {'link': 'https://stockx.com/supreme-contrast-boonie-ss20-black?size=S/M', 'size': 'Size: S/M', 'ask_price': '$119', 'highest_bid': '$39', 'lowest_ask': '$56', 'spread': ' $79', 'expires': 'EXPIRED'}, {'link': 'https://stockx.com/supreme-s-logo-new-era-black?size=7%203/8', 'size': 'Size: 7 3/8', 'ask_price': '$109', 'highest_bid': '$65', 'lowest_ask': '$79', 'spread': ' $44', 'expires': 'EXPIRED'}, {'link': 'https://stockx.com/supreme-washed-chino-twill-camp-cap-fw20-natural', 'size': 'N/A', 'ask_price': '$109', 'highest_bid': '$75', 'lowest_ask': '$85', 'spread': ' $34', 'expires': 'EXPIRED'}, {'link': 'https://stockx.com/supreme-crossover-beanie-black', 'size': 'N/A', 'ask_price': '$109', 'highest_bid': '$50', 'lowest_ask': '$70', 'spread': ' $59', 'expires': 'EXPIRED'}, {'link': 'https://stockx.com/supreme-s-logo-new-era-black?size=7%203/8', 'size': 'Size: 7 3/8', 'ask_price': '$109', 'highest_bid': '$65', 'lowest_ask': '$79', 'spread': ' $44', 'expires': 'EXPIRED'}, {'link': 'https://stockx.com/supreme-s-logo-new-era-black?size=7%205/8', 'size': 'Size: 7 5/8', 'ask_price': '$109', 'highest_bid': '$70', 'lowest_ask': '$94', 'spread': ' $39', 'expires': 'EXPIRED'}, {'link': 'https://stockx.com/supreme-ichi-the-killer-l-s-tee-light-purple?size=L', 'size': 'Size: L', 'ask_price': '$119', 'highest_bid': '$60', 'lowest_ask': '$89', 'spread': ' $59', 'expires': 'EXPIRED'}, {'link': 'https://stockx.com/supreme-split-tee-black?size=XL', 'size': 'Size: XL', 'ask_price': '$109', 'highest_bid': '$45', 'lowest_ask': '$50', 'spread': ' $64', 'expires': 'EXPIRED'}, {'link': 'https://stockx.com/kith-x-coca-cola-logo-cap-black', 'size': 'N/A', 'ask_price': '$109', 'highest_bid': '$57', 'lowest_ask': '$92', 'spread': ' $51', 'expires': 'EXPIRED'}, {'link': 'https://stockx.com/supreme-yohji-yamamoto-scribble-portrait-tee-white?size=M', 'size': 'Size: M', 'ask_price': '$109', 'highest_bid': '$53', 'lowest_ask': '$62', 'spread': ' $56', 'expires': 'EXPIRED'}, {'link': 'https://stockx.com/supreme-flags-boonie-woodland-camo?size=S/M', 'size': 'Size: S/M', 'ask_price': '$139', 'highest_bid': '--', 'lowest_ask': '$85', 'spread': '--', 'expires': 'EXPIRED'}, {'link': 'https://stockx.com/supreme-futura-logo-tee-ash-grey?size=M', 'size': 'Size: M', 'ask_price': '$99', 'highest_bid': '$47', 'lowest_ask': '$50', 'spread': ' $51', 'expires': 'EXPIRED'}, {'link': 'https://stockx.com/palace-spitfire-p-fire-t-shirt-black?size=L', 'size': 'Size: L', 'ask_price': '$99', 'highest_bid': '$25', 'lowest_ask': '$68', 'spread': ' $74', 'expires': 'EXPIRED'}, {'link': 'https://stockx.com/supreme-social-tee-navy?size=S', 'size': 'Size: S', 'ask_price': '$99', 'highest_bid': '$15', 'lowest_ask': '$80', 'spread': ' $84', 'expires': 'EXPIRED'}, {'link': 'https://stockx.com/kith-x-coca-cola-language-bottle-vintage-tee-white?size=XS', 'size': 'Size: XS', 'ask_price': '$119', 'highest_bid': '$70', 'lowest_ask': '$80', 'spread': ' $49', 'expires': 'EXPIRED'}, {'link': 'https://stockx.com/supreme-anno-domini-tee-light-purple?size=M', 'size': 'Size: M', 'ask_price': '$89', 'highest_bid': '$45', 'lowest_ask': '$59', 'spread': ' $44', 'expires': 'EXPIRED'}, {'link': 'https://stockx.com/supreme-anno-domini-tee-black?size=S', 'size': 'Size: S', 'ask_price': '$79', 'highest_bid': '$45', 'lowest_ask': '$75', 'spread': ' $34', 'expires': 'EXPIRED'}, {'link': 'https://stockx.com/supreme-shedrain-transparent-checkerboard-umbrella-black', 'size': 'N/A', 'ask_price': '$65', 'highest_bid': '$46', 'lowest_ask': '$55', 'spread': ' $19', 'expires': 'EXPIRED'}, {'link': 'https://stockx.com/anti-social-social-club-weird-cap-black', 'size': 'N/A', 'ask_price': '$75', 'highest_bid': '$56', 'lowest_ask': '$98', 'spread': ' $19', 'expires': 'EXPIRED'}, {'link': 'https://stockx.com/anti-social-social-club-weird-cap-black', 'size': 'N/A', 'ask_price': '$75', 'highest_bid': '$56', 'lowest_ask': '$98', 'spread': ' $19', 'expires': 'EXPIRED'}, {'link': 'https://stockx.com/anti-social-social-club-logo-2-tee-ss20-black?size=M', 'size': 'Size: M', 'ask_price': '$75', 'highest_bid': '$42', 'lowest_ask': '$62', 'spread': ' $33', 'expires': 'EXPIRED'}, {'link': 'https://stockx.com/anti-social-social-club-logo-2-tee-ss20-black?size=XS', 'size': 'Size: XS', 'ask_price': '$75', 'highest_bid': '--', 'lowest_ask': '$62', 'spread': '--', 'expires': 'EXPIRED'}, {'link': 'https://stockx.com/supreme-daniel-johnston-hooded-sweatshirt-dark-royal?size=M', 'size': 'Size: M', 'ask_price': '$180', 'highest_bid': '$117', 'lowest_ask': '$148', 'spread': ' $63', 'expires': 'EXPIRED'}, {'link': 'https://stockx.com/palace-xx-longsleeve-navy?size=M', 'size': 'Size: M', 'ask_price': '$100', 'highest_bid': '$66', 'lowest_ask': '$80', 'spread': ' $33', 'expires': 'EXPIRED'}, {'link': 'https://stockx.com/supreme-kanji-logo-crewneck-heather-grey?size=L', 'size': 'Size: L', 'ask_price': '$251', 'highest_bid': '$175', 'lowest_ask': '$214', 'spread': ' $76', 'expires': 'EXPIRED'}, {'link': 'https://stockx.com/ftp-10-year-jacket-white?size=M', 'size': 'Size: M', 'ask_price': '$100', 'highest_bid': '$20', 'lowest_ask': '$120', 'spread': ' $80', 'expires': 'EXPIRED'}, {'link': 'https://stockx.com/nike-air-force-1-low-supreme-box-logo-black?size=10', 'size': 'Size: 10', 'ask_price': '$251', 'highest_bid': '$184', 'lowest_ask': '$224', 'spread': ' $67', 'expires': 'EXPIRED'}, {'link': 'https://stockx.com/palace-flippin-roach-book-multi', 'size': 'N/A', 'ask_price': '$22', 'highest_bid': '--', 'lowest_ask': '--', 'spread': '--', 'expires': 'EXPIRED'}, {'link': 'https://stockx.com/supreme-daniel-johnston-tee-light-teal?size=XL', 'size': 'Size: XL', 'ask_price': '$58', 'highest_bid': '$35', 'lowest_ask': '$55', 'spread': ' $23', 'expires': 'EXPIRED'}, {'link': 'https://stockx.com/supreme-signature-s-s-top-peach?size=XL', 'size': 'Size: XL', 'ask_price': '$60', 'highest_bid': '$20', 'lowest_ask': '--', 'spread': ' $40', 'expires': 'EXPIRED'}, {'link': 'https://stockx.com/supreme-overdyed-beanie-ss20-white', 'size': 'N/A', 'ask_price': '$90', 'highest_bid': '$86', 'lowest_ask': '$110', 'spread': ' $4', 'expires': 'EXPIRED'}, {'link': 'https://stockx.com/palace-tri-zooted-shakka-t-shirt-black?size=S', 'size': 'Size: S', 'ask_price': '$75', 'highest_bid': '$60', 'lowest_ask': '$75', 'spread': ' $14', 'expires': 'EXPIRED'}, {'link': 'https://stockx.com/supreme-the-north-face-rtg-backpack-bright-red', 'size': 'N/A', 'ask_price': '$249', 'highest_bid': '$165', 'lowest_ask': '$191', 'spread': ' $83', 'expires': 'EXPIRED'}, {'link': 'https://stockx.com/supreme-the-north-face-rtg-utility-pouch-gold', 'size': 'N/A', 'ask_price': '$99', 'highest_bid': '$66', 'lowest_ask': '$70', 'spread': ' $33', 'expires': 'EXPIRED'}, {'link': 'https://stockx.com/supreme-mesh-panel-water-short-grey?size=S', 'size': 'Size: S', 'ask_price': '$249', 'highest_bid': '$129', 'lowest_ask': '$160', 'spread': ' $119', 'expires': 'EXPIRED'}, {'link': 'https://stockx.com/supreme-debossed-glass-ashtray-clear', 'size': 'N/A', 'ask_price': '$69', 'highest_bid': '$50', 'lowest_ask': '$72', 'spread': ' $19', 'expires': 'EXPIRED'}, {'link': 'https://stockx.com/supreme-waist-bag-ss20-blue-desert-camo', 'size': 'N/A', 'ask_price': '$194', 'highest_bid': '$126', 'lowest_ask': '$150', 'spread': ' $68', 'expires': 'EXPIRED'}, {'link': 'https://stockx.com/supreme-terry-short-white?size=S', 'size': 'Size: S', 'ask_price': '$179', 'highest_bid': '$15', 'lowest_ask': '--', 'spread': ' $164', 'expires': 'EXPIRED'}, {'link': 'https://stockx.com/supreme-trail-camp-cap-black', 'size': 'N/A', 'ask_price': '$104', 'highest_bid': '$53', 'lowest_ask': '$78', 'spread': ' $51', 'expires': 'EXPIRED'}, {'link': 'https://stockx.com/supreme-trail-camp-cap-blue', 'size': 'N/A', 'ask_price': '$95', 'highest_bid': '$54', 'lowest_ask': '$65', 'spread': ' $40', 'expires': 'EXPIRED'}, {'link': 'https://stockx.com/supreme-rhinestone-baseball-jersey-pinstripe?size=XL', 'size': 'Size: XL', 'ask_price': '$259', 'highest_bid': '$15', 'lowest_ask': '$188', 'spread': ' $244', 'expires': 'EXPIRED'}, {'link': 'https://stockx.com/palace-tri-phone-t-shirt-black?size=M', 'size': 'Size: M', 'ask_price': '$73', 'highest_bid': '$50', 'lowest_ask': '$69', 'spread': ' $23', 'expires': 'EXPIRED'}, {'link': 'https://stockx.com/palace-tri-phone-t-shirt-white?size=S', 'size': 'Size: S', 'ask_price': '$74', 'highest_bid': '$25', 'lowest_ask': '$67', 'spread': ' $49', 'expires': 'EXPIRED'}, {'link': 'https://stockx.com/supreme-daniel-johnston-beanie-black', 'size': 'N/A', 'ask_price': '$57', 'highest_bid': '$42', 'lowest_ask': '$49', 'spread': ' $15', 'expires': 'EXPIRED'}, {'link': 'https://stockx.com/supreme-waves-crusher-multicolor?size=S/M', 'size': 'Size: S/M', 'ask_price': '$139', 'highest_bid': '$36', 'lowest_ask': '$77', 'spread': ' $102', 'expires': 'EXPIRED'}, {'link': 'https://stockx.com/supreme-terry-short-black?size=S', 'size': 'Size: S', 'ask_price': '$259', 'highest_bid': '$16', 'lowest_ask': '$170', 'spread': ' $243', 'expires': 'EXPIRED'}, {'link': 'https://stockx.com/supreme-sailboat-tee-white?size=XL', 'size': 'Size: XL', 'ask_price': '$129', 'highest_bid': '$52', 'lowest_ask': '$57', 'spread': ' $77', 'expires': 'EXPIRED'}, {'link': 'https://stockx.com/supreme-daniel-johnston-frog-tee-white?size=L', 'size': 'Size: L', 'ask_price': '$65', 'highest_bid': '$30', 'lowest_ask': '$50', 'spread': ' $34', 'expires': 'EXPIRED'}, {'link': 'https://stockx.com/supreme-the-north-face-floating-key-chain-gold', 'size': 'N/A', 'ask_price': '$33', 'highest_bid': '$15', 'lowest_ask': '$24', 'spread': ' $18', 'expires': 'EXPIRED'}, {'link': 'https://stockx.com/supreme-cherries-tee-white?size=M', 'size': 'Size: M', 'ask_price': '$99', 'highest_bid': '$65', 'lowest_ask': '$80', 'spread': ' $34', 'expires': 'EXPIRED'}]\n"
     ]
    }
   ],
   "source": [
    "print(selling_list)"
   ]
  },
  {
   "cell_type": "code",
   "execution_count": 29,
   "metadata": {},
   "outputs": [],
   "source": [
    "with open('selling_list.pkl', 'wb') as f:\n",
    "    pickle.dump(selling_list, f)"
   ]
  },
  {
   "cell_type": "code",
   "execution_count": 32,
   "metadata": {},
   "outputs": [],
   "source": [
    "with open(\"selling_list.json\", 'w') as f:\n",
    "    json.dump(selling_list, f)"
   ]
  },
  {
   "cell_type": "code",
   "execution_count": 35,
   "metadata": {},
   "outputs": [],
   "source": [
    "with open('selling_list.pkl', 'rb') as f:\n",
    "    selling_list_read = pickle.load(f)"
   ]
  },
  {
   "cell_type": "code",
   "execution_count": 31,
   "metadata": {},
   "outputs": [
    {
     "name": "stdout",
     "output_type": "stream",
     "text": [
      "[{'link': 'https://stockx.com/palace-ye-ham-shirt-indigo?size=S', 'size': 'S', 'ask_price': '$179', 'highest_bid': '$50', 'lowest_ask': '$179', 'spread': ' $128', 'expires': '29 days'}, {'link': 'https://stockx.com/supreme-terry-s-s-zip-up-white?size=S', 'size': 'S', 'ask_price': '$196', 'highest_bid': '$15', 'lowest_ask': '$196', 'spread': ' $181', 'expires': '29 days'}, {'link': 'https://stockx.com/ftp-10-year-jacket-black?size=M', 'size': 'M', 'ask_price': '$149', 'highest_bid': '--', 'lowest_ask': '$149', 'spread': '--', 'expires': '29 days'}, {'link': 'https://stockx.com/supreme-utility-belted-pant-black?size=S', 'size': 'S', 'ask_price': '$153', 'highest_bid': '$61', 'lowest_ask': '$153', 'spread': ' $91', 'expires': '29 days'}, {'link': 'https://stockx.com/palace-bare-storage-jacket-flint-grey?size=M', 'size': 'M', 'ask_price': '$395', 'highest_bid': '$337', 'lowest_ask': '$350', 'spread': ' $58', 'expires': '29 days'}, {'link': 'https://stockx.com/supreme-stone-washed-slim-jean-fw20-stone-washed-indigo?size=30', 'size': '30', 'ask_price': '$229', 'highest_bid': '$38', 'lowest_ask': '$229', 'spread': ' $191', 'expires': '29 days'}, {'link': 'https://stockx.com/ftp-allover-tee-olive?size=L', 'size': 'L', 'ask_price': '$114', 'highest_bid': '$48', 'lowest_ask': '$80', 'spread': ' $66', 'expires': '29 days'}, {'link': 'https://stockx.com/supreme-ichi-the-killer-l-s-tee-light-purple?size=XL', 'size': 'XL', 'ask_price': '$144', 'highest_bid': '$82', 'lowest_ask': '$144', 'spread': ' $62', 'expires': '29 days'}, {'link': 'https://stockx.com/palace-tri-chenille-hood-navy?size=M', 'size': 'M', 'ask_price': '$189', 'highest_bid': '$166', 'lowest_ask': '$188', 'spread': ' $22', 'expires': '29 days'}, {'link': 'https://stockx.com/supreme-crossover-hooded-sweatshirt-natural?size=L', 'size': 'L', 'ask_price': '$235', 'highest_bid': '$200', 'lowest_ask': '$235', 'spread': ' $35', 'expires': '29 days'}, {'link': 'https://stockx.com/kith-5-borough-brooklyn-tee-white?size=XS', 'size': 'XS', 'ask_price': '$114', 'highest_bid': '$51', 'lowest_ask': '$114', 'spread': ' $63', 'expires': '29 days'}, {'link': 'https://stockx.com/palace-lon-dons-short-black?size=M', 'size': 'M', 'ask_price': '$193', 'highest_bid': '$35', 'lowest_ask': '$193', 'spread': ' $158', 'expires': '29 days'}, {'link': 'https://stockx.com/supreme-blocked-stripe-s-s-top-peach?size=XL', 'size': 'XL', 'ask_price': '$98', 'highest_bid': '$15', 'lowest_ask': '$98', 'spread': ' $83', 'expires': '29 days'}, {'link': 'https://stockx.com/kith-5-borough-manhattan-tee-white?size=S', 'size': 'S', 'ask_price': '$119', 'highest_bid': '$51', 'lowest_ask': '$119', 'spread': ' $68', 'expires': '29 days'}, {'link': 'https://stockx.com/palace-lon-dons-crew-black?size=L', 'size': 'L', 'ask_price': '$248', 'highest_bid': '$120', 'lowest_ask': '$248', 'spread': ' $128', 'expires': '29 days'}, {'link': 'https://stockx.com/supreme-overdyed-beanie-ss20-black', 'size': 'N/A', 'ask_price': '$90', 'highest_bid': '$91', 'lowest_ask': '$100', 'spread': ' -$1', 'expires': 'EXPIRED'}, {'link': 'https://stockx.com/palace-pealed-jogger-grey?size=S', 'size': 'S', 'ask_price': '$257', 'highest_bid': '$15', 'lowest_ask': '--', 'spread': ' $242', 'expires': 'EXPIRED'}, {'link': 'https://stockx.com/palace-hesh-mit-fresh-hood-black?size=M', 'size': 'M', 'ask_price': '$309', 'highest_bid': '$231', 'lowest_ask': '$325', 'spread': ' $78', 'expires': 'EXPIRED'}, {'link': 'https://stockx.com/palace-pealed-hood-grey?size=M', 'size': 'M', 'ask_price': '$229', 'highest_bid': '$60', 'lowest_ask': '$220', 'spread': ' $169', 'expires': 'EXPIRED'}, {'link': 'https://stockx.com/supreme-yohji-yamamoto-crewneck-orange?size=L', 'size': 'L', 'ask_price': '$189', 'highest_bid': '$100', 'lowest_ask': '$169', 'spread': ' $89', 'expires': 'EXPIRED'}, {'link': 'https://stockx.com/palace-tri-chenille-hood-black?size=M', 'size': 'M', 'ask_price': '$197', 'highest_bid': '$143', 'lowest_ask': '$239', 'spread': ' $54', 'expires': 'EXPIRED'}, {'link': 'https://stockx.com/supreme-motion-logo-tee-ss20-yellow?size=XL', 'size': 'XL', 'ask_price': '$149', 'highest_bid': '$70', 'lowest_ask': '$92', 'spread': ' $79', 'expires': 'EXPIRED'}, {'link': 'https://stockx.com/supreme-the-north-face-cargo-jacket-black?size=M', 'size': 'M', 'ask_price': '$589', 'highest_bid': '$521', 'lowest_ask': '$530', 'spread': ' $68', 'expires': 'EXPIRED'}, {'link': 'https://stockx.com/palace-pealed-hood-blue?size=L', 'size': 'L', 'ask_price': '$218', 'highest_bid': '$110', 'lowest_ask': '$195', 'spread': ' $108', 'expires': 'EXPIRED'}, {'link': 'https://stockx.com/palace-pealed-hood-desert?size=XL', 'size': 'XL', 'ask_price': '$229', 'highest_bid': '$60', 'lowest_ask': '$180', 'spread': ' $169', 'expires': 'EXPIRED'}, {'link': 'https://stockx.com/supreme-daniel-johnston-hooded-sweatshirt-black?size=XL', 'size': 'XL', 'ask_price': '$164', 'highest_bid': '$142', 'lowest_ask': '$185', 'spread': ' $22', 'expires': 'EXPIRED'}, {'link': 'https://stockx.com/supreme-franklin-hooded-sweatshirt-washed-navy?size=L', 'size': 'L', 'ask_price': '$189', 'highest_bid': '$105', 'lowest_ask': '$179', 'spread': ' $83', 'expires': 'EXPIRED'}, {'link': 'https://stockx.com/supreme-futura-logo-keychain-red', 'size': 'N/A', 'ask_price': '$29', 'highest_bid': '--', 'lowest_ask': '$23', 'spread': '--', 'expires': 'EXPIRED'}, {'link': 'https://stockx.com/supreme-new-era-s-logo-beanie-fw20-white', 'size': 'N/A', 'ask_price': '$99', 'highest_bid': '$65', 'lowest_ask': '$83', 'spread': ' $34', 'expires': 'EXPIRED'}, {'link': 'https://stockx.com/kith-x-coca-cola-m2-pickup-diecast-replica', 'size': 'N/A', 'ask_price': '$55', 'highest_bid': '$35', 'lowest_ask': '$48', 'spread': ' $20', 'expires': 'EXPIRED'}, {'link': 'https://stockx.com/supreme-waves-work-jacket-black?size=L', 'size': 'L', 'ask_price': '$249', 'highest_bid': '$170', 'lowest_ask': '$185', 'spread': ' $79', 'expires': 'EXPIRED'}, {'link': 'https://stockx.com/supreme-backpack-ss20-black', 'size': 'N/A', 'ask_price': '$299', 'highest_bid': '$180', 'lowest_ask': '$227', 'spread': ' $119', 'expires': 'EXPIRED'}, {'link': 'https://stockx.com/supreme-backpack-ss20-blue-desert-camo', 'size': 'N/A', 'ask_price': '$299', 'highest_bid': '$135', 'lowest_ask': '$210', 'spread': ' $164', 'expires': 'EXPIRED'}, {'link': 'https://stockx.com/supreme-backpack-ss20-blue-desert-camo', 'size': 'N/A', 'ask_price': '$299', 'highest_bid': '$135', 'lowest_ask': '$210', 'spread': ' $164', 'expires': 'EXPIRED'}, {'link': 'https://stockx.com/supreme-waist-bag-fw20-black', 'size': 'N/A', 'ask_price': '$179', 'highest_bid': '$88', 'lowest_ask': '$99', 'spread': ' $91', 'expires': 'EXPIRED'}, {'link': 'https://stockx.com/supreme-sling-bag-leopard', 'size': 'N/A', 'ask_price': '$199', 'highest_bid': '$80', 'lowest_ask': '$89', 'spread': ' $119', 'expires': 'EXPIRED'}, {'link': 'https://stockx.com/supreme-top-of-the-world-s-s-top-dark-teal?size=XL', 'size': 'XL', 'ask_price': '$129', 'highest_bid': '$15', 'lowest_ask': '$120', 'spread': ' $114', 'expires': 'EXPIRED'}, {'link': 'https://stockx.com/supreme-waist-bag-fw20-black', 'size': 'N/A', 'ask_price': '$189', 'highest_bid': '$88', 'lowest_ask': '$99', 'spread': ' $101', 'expires': 'EXPIRED'}, {'link': 'https://stockx.com/supreme-contrast-boonie-ss20-black?size=S/M', 'size': 'S/M', 'ask_price': '$119', 'highest_bid': '$39', 'lowest_ask': '$56', 'spread': ' $79', 'expires': 'EXPIRED'}, {'link': 'https://stockx.com/supreme-s-logo-new-era-black?size=7%203/8', 'size': '7 3/8', 'ask_price': '$109', 'highest_bid': '$65', 'lowest_ask': '$79', 'spread': ' $44', 'expires': 'EXPIRED'}, {'link': 'https://stockx.com/supreme-washed-chino-twill-camp-cap-fw20-natural', 'size': 'N/A', 'ask_price': '$109', 'highest_bid': '$75', 'lowest_ask': '$85', 'spread': ' $34', 'expires': 'EXPIRED'}, {'link': 'https://stockx.com/supreme-crossover-beanie-black', 'size': 'N/A', 'ask_price': '$109', 'highest_bid': '$50', 'lowest_ask': '$70', 'spread': ' $59', 'expires': 'EXPIRED'}, {'link': 'https://stockx.com/supreme-s-logo-new-era-black?size=7%203/8', 'size': '7 3/8', 'ask_price': '$109', 'highest_bid': '$65', 'lowest_ask': '$79', 'spread': ' $44', 'expires': 'EXPIRED'}, {'link': 'https://stockx.com/supreme-s-logo-new-era-black?size=7%205/8', 'size': '7 5/8', 'ask_price': '$109', 'highest_bid': '$70', 'lowest_ask': '$94', 'spread': ' $39', 'expires': 'EXPIRED'}, {'link': 'https://stockx.com/supreme-ichi-the-killer-l-s-tee-light-purple?size=L', 'size': 'L', 'ask_price': '$119', 'highest_bid': '$60', 'lowest_ask': '$89', 'spread': ' $59', 'expires': 'EXPIRED'}, {'link': 'https://stockx.com/supreme-split-tee-black?size=XL', 'size': 'XL', 'ask_price': '$109', 'highest_bid': '$45', 'lowest_ask': '$50', 'spread': ' $64', 'expires': 'EXPIRED'}, {'link': 'https://stockx.com/kith-x-coca-cola-logo-cap-black', 'size': 'N/A', 'ask_price': '$109', 'highest_bid': '$57', 'lowest_ask': '$92', 'spread': ' $51', 'expires': 'EXPIRED'}, {'link': 'https://stockx.com/supreme-yohji-yamamoto-scribble-portrait-tee-white?size=M', 'size': 'M', 'ask_price': '$109', 'highest_bid': '$53', 'lowest_ask': '$62', 'spread': ' $56', 'expires': 'EXPIRED'}, {'link': 'https://stockx.com/supreme-flags-boonie-woodland-camo?size=S/M', 'size': 'S/M', 'ask_price': '$139', 'highest_bid': '--', 'lowest_ask': '$85', 'spread': '--', 'expires': 'EXPIRED'}, {'link': 'https://stockx.com/supreme-futura-logo-tee-ash-grey?size=M', 'size': 'M', 'ask_price': '$99', 'highest_bid': '$47', 'lowest_ask': '$50', 'spread': ' $51', 'expires': 'EXPIRED'}, {'link': 'https://stockx.com/palace-spitfire-p-fire-t-shirt-black?size=L', 'size': 'L', 'ask_price': '$99', 'highest_bid': '$25', 'lowest_ask': '$68', 'spread': ' $74', 'expires': 'EXPIRED'}, {'link': 'https://stockx.com/supreme-social-tee-navy?size=S', 'size': 'S', 'ask_price': '$99', 'highest_bid': '$15', 'lowest_ask': '$80', 'spread': ' $84', 'expires': 'EXPIRED'}, {'link': 'https://stockx.com/kith-x-coca-cola-language-bottle-vintage-tee-white?size=XS', 'size': 'XS', 'ask_price': '$119', 'highest_bid': '$70', 'lowest_ask': '$80', 'spread': ' $49', 'expires': 'EXPIRED'}, {'link': 'https://stockx.com/supreme-anno-domini-tee-light-purple?size=M', 'size': 'M', 'ask_price': '$89', 'highest_bid': '$45', 'lowest_ask': '$59', 'spread': ' $44', 'expires': 'EXPIRED'}, {'link': 'https://stockx.com/supreme-anno-domini-tee-black?size=S', 'size': 'S', 'ask_price': '$79', 'highest_bid': '$45', 'lowest_ask': '$75', 'spread': ' $34', 'expires': 'EXPIRED'}, {'link': 'https://stockx.com/supreme-shedrain-transparent-checkerboard-umbrella-black', 'size': 'N/A', 'ask_price': '$65', 'highest_bid': '$46', 'lowest_ask': '$55', 'spread': ' $19', 'expires': 'EXPIRED'}, {'link': 'https://stockx.com/anti-social-social-club-weird-cap-black', 'size': 'N/A', 'ask_price': '$75', 'highest_bid': '$56', 'lowest_ask': '$98', 'spread': ' $19', 'expires': 'EXPIRED'}, {'link': 'https://stockx.com/anti-social-social-club-weird-cap-black', 'size': 'N/A', 'ask_price': '$75', 'highest_bid': '$56', 'lowest_ask': '$98', 'spread': ' $19', 'expires': 'EXPIRED'}, {'link': 'https://stockx.com/anti-social-social-club-logo-2-tee-ss20-black?size=M', 'size': 'M', 'ask_price': '$75', 'highest_bid': '$42', 'lowest_ask': '$62', 'spread': ' $33', 'expires': 'EXPIRED'}, {'link': 'https://stockx.com/anti-social-social-club-logo-2-tee-ss20-black?size=XS', 'size': 'XS', 'ask_price': '$75', 'highest_bid': '--', 'lowest_ask': '$62', 'spread': '--', 'expires': 'EXPIRED'}, {'link': 'https://stockx.com/supreme-daniel-johnston-hooded-sweatshirt-dark-royal?size=M', 'size': 'M', 'ask_price': '$180', 'highest_bid': '$117', 'lowest_ask': '$148', 'spread': ' $63', 'expires': 'EXPIRED'}, {'link': 'https://stockx.com/palace-xx-longsleeve-navy?size=M', 'size': 'M', 'ask_price': '$100', 'highest_bid': '$66', 'lowest_ask': '$80', 'spread': ' $33', 'expires': 'EXPIRED'}, {'link': 'https://stockx.com/supreme-kanji-logo-crewneck-heather-grey?size=L', 'size': 'L', 'ask_price': '$251', 'highest_bid': '$175', 'lowest_ask': '$214', 'spread': ' $76', 'expires': 'EXPIRED'}, {'link': 'https://stockx.com/ftp-10-year-jacket-white?size=M', 'size': 'M', 'ask_price': '$100', 'highest_bid': '$20', 'lowest_ask': '$120', 'spread': ' $80', 'expires': 'EXPIRED'}, {'link': 'https://stockx.com/nike-air-force-1-low-supreme-box-logo-black?size=10', 'size': '10', 'ask_price': '$251', 'highest_bid': '$184', 'lowest_ask': '$224', 'spread': ' $67', 'expires': 'EXPIRED'}, {'link': 'https://stockx.com/palace-flippin-roach-book-multi', 'size': 'N/A', 'ask_price': '$22', 'highest_bid': '--', 'lowest_ask': '--', 'spread': '--', 'expires': 'EXPIRED'}, {'link': 'https://stockx.com/supreme-daniel-johnston-tee-light-teal?size=XL', 'size': 'XL', 'ask_price': '$58', 'highest_bid': '$35', 'lowest_ask': '$55', 'spread': ' $23', 'expires': 'EXPIRED'}, {'link': 'https://stockx.com/supreme-signature-s-s-top-peach?size=XL', 'size': 'XL', 'ask_price': '$60', 'highest_bid': '$20', 'lowest_ask': '--', 'spread': ' $40', 'expires': 'EXPIRED'}, {'link': 'https://stockx.com/supreme-overdyed-beanie-ss20-white', 'size': 'N/A', 'ask_price': '$90', 'highest_bid': '$86', 'lowest_ask': '$110', 'spread': ' $4', 'expires': 'EXPIRED'}, {'link': 'https://stockx.com/palace-tri-zooted-shakka-t-shirt-black?size=S', 'size': 'S', 'ask_price': '$75', 'highest_bid': '$60', 'lowest_ask': '$75', 'spread': ' $14', 'expires': 'EXPIRED'}, {'link': 'https://stockx.com/supreme-the-north-face-rtg-backpack-bright-red', 'size': 'N/A', 'ask_price': '$249', 'highest_bid': '$165', 'lowest_ask': '$191', 'spread': ' $83', 'expires': 'EXPIRED'}, {'link': 'https://stockx.com/supreme-the-north-face-rtg-utility-pouch-gold', 'size': 'N/A', 'ask_price': '$99', 'highest_bid': '$66', 'lowest_ask': '$70', 'spread': ' $33', 'expires': 'EXPIRED'}, {'link': 'https://stockx.com/supreme-mesh-panel-water-short-grey?size=S', 'size': 'S', 'ask_price': '$249', 'highest_bid': '$129', 'lowest_ask': '$160', 'spread': ' $119', 'expires': 'EXPIRED'}, {'link': 'https://stockx.com/supreme-debossed-glass-ashtray-clear', 'size': 'N/A', 'ask_price': '$69', 'highest_bid': '$50', 'lowest_ask': '$72', 'spread': ' $19', 'expires': 'EXPIRED'}, {'link': 'https://stockx.com/supreme-waist-bag-ss20-blue-desert-camo', 'size': 'N/A', 'ask_price': '$194', 'highest_bid': '$126', 'lowest_ask': '$150', 'spread': ' $68', 'expires': 'EXPIRED'}, {'link': 'https://stockx.com/supreme-terry-short-white?size=S', 'size': 'S', 'ask_price': '$179', 'highest_bid': '$15', 'lowest_ask': '--', 'spread': ' $164', 'expires': 'EXPIRED'}, {'link': 'https://stockx.com/supreme-trail-camp-cap-black', 'size': 'N/A', 'ask_price': '$104', 'highest_bid': '$53', 'lowest_ask': '$78', 'spread': ' $51', 'expires': 'EXPIRED'}, {'link': 'https://stockx.com/supreme-trail-camp-cap-blue', 'size': 'N/A', 'ask_price': '$95', 'highest_bid': '$54', 'lowest_ask': '$65', 'spread': ' $40', 'expires': 'EXPIRED'}, {'link': 'https://stockx.com/supreme-rhinestone-baseball-jersey-pinstripe?size=XL', 'size': 'XL', 'ask_price': '$259', 'highest_bid': '$15', 'lowest_ask': '$188', 'spread': ' $244', 'expires': 'EXPIRED'}, {'link': 'https://stockx.com/palace-tri-phone-t-shirt-black?size=M', 'size': 'M', 'ask_price': '$73', 'highest_bid': '$50', 'lowest_ask': '$69', 'spread': ' $23', 'expires': 'EXPIRED'}, {'link': 'https://stockx.com/palace-tri-phone-t-shirt-white?size=S', 'size': 'S', 'ask_price': '$74', 'highest_bid': '$25', 'lowest_ask': '$67', 'spread': ' $49', 'expires': 'EXPIRED'}, {'link': 'https://stockx.com/supreme-daniel-johnston-beanie-black', 'size': 'N/A', 'ask_price': '$57', 'highest_bid': '$42', 'lowest_ask': '$49', 'spread': ' $15', 'expires': 'EXPIRED'}, {'link': 'https://stockx.com/supreme-waves-crusher-multicolor?size=S/M', 'size': 'S/M', 'ask_price': '$139', 'highest_bid': '$36', 'lowest_ask': '$77', 'spread': ' $102', 'expires': 'EXPIRED'}, {'link': 'https://stockx.com/supreme-terry-short-black?size=S', 'size': 'S', 'ask_price': '$259', 'highest_bid': '$16', 'lowest_ask': '$170', 'spread': ' $243', 'expires': 'EXPIRED'}, {'link': 'https://stockx.com/supreme-sailboat-tee-white?size=XL', 'size': 'XL', 'ask_price': '$129', 'highest_bid': '$52', 'lowest_ask': '$57', 'spread': ' $77', 'expires': 'EXPIRED'}, {'link': 'https://stockx.com/supreme-daniel-johnston-frog-tee-white?size=L', 'size': 'L', 'ask_price': '$65', 'highest_bid': '$30', 'lowest_ask': '$50', 'spread': ' $34', 'expires': 'EXPIRED'}, {'link': 'https://stockx.com/supreme-the-north-face-floating-key-chain-gold', 'size': 'N/A', 'ask_price': '$33', 'highest_bid': '$15', 'lowest_ask': '$24', 'spread': ' $18', 'expires': 'EXPIRED'}, {'link': 'https://stockx.com/supreme-cherries-tee-white?size=M', 'size': 'M', 'ask_price': '$99', 'highest_bid': '$65', 'lowest_ask': '$80', 'spread': ' $34', 'expires': 'EXPIRED'}]\n"
     ]
    }
   ],
   "source": [
    "print(selling_list_read)"
   ]
  },
  {
   "cell_type": "code",
   "execution_count": 36,
   "metadata": {},
   "outputs": [
    {
     "name": "stdout",
     "output_type": "stream",
     "text": [
      "{'link': 'https://stockx.com/palace-ye-ham-shirt-indigo?size=S', 'size': 'S', 'ask_price': 179, 'highest_bid': 50, 'lowest_ask': 179, 'spread': 128, 'expires': '29 days'}\n",
      "{'link': 'https://stockx.com/supreme-terry-s-s-zip-up-white?size=S', 'size': 'S', 'ask_price': 196, 'highest_bid': 15, 'lowest_ask': 196, 'spread': 181, 'expires': '29 days'}\n",
      "{'link': 'https://stockx.com/ftp-10-year-jacket-black?size=M', 'size': 'M', 'ask_price': 149, 'highest_bid': -1, 'lowest_ask': 149, 'spread': -1, 'expires': '29 days'}\n",
      "{'link': 'https://stockx.com/supreme-utility-belted-pant-black?size=S', 'size': 'S', 'ask_price': 153, 'highest_bid': 61, 'lowest_ask': 153, 'spread': 91, 'expires': '29 days'}\n",
      "{'link': 'https://stockx.com/palace-bare-storage-jacket-flint-grey?size=M', 'size': 'M', 'ask_price': 395, 'highest_bid': 337, 'lowest_ask': 350, 'spread': 58, 'expires': '29 days'}\n",
      "{'link': 'https://stockx.com/supreme-stone-washed-slim-jean-fw20-stone-washed-indigo?size=30', 'size': '30', 'ask_price': 229, 'highest_bid': 38, 'lowest_ask': 229, 'spread': 191, 'expires': '29 days'}\n",
      "{'link': 'https://stockx.com/ftp-allover-tee-olive?size=L', 'size': 'L', 'ask_price': 114, 'highest_bid': 48, 'lowest_ask': 80, 'spread': 66, 'expires': '29 days'}\n",
      "{'link': 'https://stockx.com/supreme-ichi-the-killer-l-s-tee-light-purple?size=XL', 'size': 'XL', 'ask_price': 144, 'highest_bid': 82, 'lowest_ask': 144, 'spread': 62, 'expires': '29 days'}\n",
      "{'link': 'https://stockx.com/palace-tri-chenille-hood-navy?size=M', 'size': 'M', 'ask_price': 189, 'highest_bid': 166, 'lowest_ask': 188, 'spread': 22, 'expires': '29 days'}\n",
      "{'link': 'https://stockx.com/supreme-crossover-hooded-sweatshirt-natural?size=L', 'size': 'L', 'ask_price': 235, 'highest_bid': 200, 'lowest_ask': 235, 'spread': 35, 'expires': '29 days'}\n",
      "{'link': 'https://stockx.com/kith-5-borough-brooklyn-tee-white?size=XS', 'size': 'XS', 'ask_price': 114, 'highest_bid': 51, 'lowest_ask': 114, 'spread': 63, 'expires': '29 days'}\n",
      "{'link': 'https://stockx.com/palace-lon-dons-short-black?size=M', 'size': 'M', 'ask_price': 193, 'highest_bid': 35, 'lowest_ask': 193, 'spread': 158, 'expires': '29 days'}\n",
      "{'link': 'https://stockx.com/supreme-blocked-stripe-s-s-top-peach?size=XL', 'size': 'XL', 'ask_price': 98, 'highest_bid': 15, 'lowest_ask': 98, 'spread': 83, 'expires': '29 days'}\n",
      "{'link': 'https://stockx.com/kith-5-borough-manhattan-tee-white?size=S', 'size': 'S', 'ask_price': 119, 'highest_bid': 51, 'lowest_ask': 119, 'spread': 68, 'expires': '29 days'}\n",
      "{'link': 'https://stockx.com/palace-lon-dons-crew-black?size=L', 'size': 'L', 'ask_price': 248, 'highest_bid': 120, 'lowest_ask': 248, 'spread': 128, 'expires': '29 days'}\n",
      "{'link': 'https://stockx.com/supreme-overdyed-beanie-ss20-black', 'size': 'N/A', 'ask_price': 90, 'highest_bid': 91, 'lowest_ask': 100, 'spread': -1, 'expires': 'EXPIRED'}\n",
      "{'link': 'https://stockx.com/palace-pealed-jogger-grey?size=S', 'size': 'S', 'ask_price': 257, 'highest_bid': 15, 'lowest_ask': -1, 'spread': 242, 'expires': 'EXPIRED'}\n",
      "{'link': 'https://stockx.com/palace-hesh-mit-fresh-hood-black?size=M', 'size': 'M', 'ask_price': 309, 'highest_bid': 231, 'lowest_ask': 325, 'spread': 78, 'expires': 'EXPIRED'}\n",
      "{'link': 'https://stockx.com/palace-pealed-hood-grey?size=M', 'size': 'M', 'ask_price': 229, 'highest_bid': 60, 'lowest_ask': 220, 'spread': 169, 'expires': 'EXPIRED'}\n",
      "{'link': 'https://stockx.com/supreme-yohji-yamamoto-crewneck-orange?size=L', 'size': 'L', 'ask_price': 189, 'highest_bid': 100, 'lowest_ask': 169, 'spread': 89, 'expires': 'EXPIRED'}\n",
      "{'link': 'https://stockx.com/palace-tri-chenille-hood-black?size=M', 'size': 'M', 'ask_price': 197, 'highest_bid': 143, 'lowest_ask': 239, 'spread': 54, 'expires': 'EXPIRED'}\n",
      "{'link': 'https://stockx.com/supreme-motion-logo-tee-ss20-yellow?size=XL', 'size': 'XL', 'ask_price': 149, 'highest_bid': 70, 'lowest_ask': 92, 'spread': 79, 'expires': 'EXPIRED'}\n",
      "{'link': 'https://stockx.com/supreme-the-north-face-cargo-jacket-black?size=M', 'size': 'M', 'ask_price': 589, 'highest_bid': 521, 'lowest_ask': 530, 'spread': 68, 'expires': 'EXPIRED'}\n",
      "{'link': 'https://stockx.com/palace-pealed-hood-blue?size=L', 'size': 'L', 'ask_price': 218, 'highest_bid': 110, 'lowest_ask': 195, 'spread': 108, 'expires': 'EXPIRED'}\n",
      "{'link': 'https://stockx.com/palace-pealed-hood-desert?size=XL', 'size': 'XL', 'ask_price': 229, 'highest_bid': 60, 'lowest_ask': 180, 'spread': 169, 'expires': 'EXPIRED'}\n",
      "{'link': 'https://stockx.com/supreme-daniel-johnston-hooded-sweatshirt-black?size=XL', 'size': 'XL', 'ask_price': 164, 'highest_bid': 142, 'lowest_ask': 185, 'spread': 22, 'expires': 'EXPIRED'}\n",
      "{'link': 'https://stockx.com/supreme-franklin-hooded-sweatshirt-washed-navy?size=L', 'size': 'L', 'ask_price': 189, 'highest_bid': 105, 'lowest_ask': 179, 'spread': 83, 'expires': 'EXPIRED'}\n",
      "{'link': 'https://stockx.com/supreme-futura-logo-keychain-red', 'size': 'N/A', 'ask_price': 29, 'highest_bid': -1, 'lowest_ask': 23, 'spread': -1, 'expires': 'EXPIRED'}\n",
      "{'link': 'https://stockx.com/supreme-new-era-s-logo-beanie-fw20-white', 'size': 'N/A', 'ask_price': 99, 'highest_bid': 65, 'lowest_ask': 83, 'spread': 34, 'expires': 'EXPIRED'}\n",
      "{'link': 'https://stockx.com/kith-x-coca-cola-m2-pickup-diecast-replica', 'size': 'N/A', 'ask_price': 55, 'highest_bid': 35, 'lowest_ask': 48, 'spread': 20, 'expires': 'EXPIRED'}\n",
      "{'link': 'https://stockx.com/supreme-waves-work-jacket-black?size=L', 'size': 'L', 'ask_price': 249, 'highest_bid': 170, 'lowest_ask': 185, 'spread': 79, 'expires': 'EXPIRED'}\n",
      "{'link': 'https://stockx.com/supreme-backpack-ss20-black', 'size': 'N/A', 'ask_price': 299, 'highest_bid': 180, 'lowest_ask': 227, 'spread': 119, 'expires': 'EXPIRED'}\n",
      "{'link': 'https://stockx.com/supreme-backpack-ss20-blue-desert-camo', 'size': 'N/A', 'ask_price': 299, 'highest_bid': 135, 'lowest_ask': 210, 'spread': 164, 'expires': 'EXPIRED'}\n",
      "{'link': 'https://stockx.com/supreme-backpack-ss20-blue-desert-camo', 'size': 'N/A', 'ask_price': 299, 'highest_bid': 135, 'lowest_ask': 210, 'spread': 164, 'expires': 'EXPIRED'}\n",
      "{'link': 'https://stockx.com/supreme-waist-bag-fw20-black', 'size': 'N/A', 'ask_price': 179, 'highest_bid': 88, 'lowest_ask': 99, 'spread': 91, 'expires': 'EXPIRED'}\n",
      "{'link': 'https://stockx.com/supreme-sling-bag-leopard', 'size': 'N/A', 'ask_price': 199, 'highest_bid': 80, 'lowest_ask': 89, 'spread': 119, 'expires': 'EXPIRED'}\n",
      "{'link': 'https://stockx.com/supreme-top-of-the-world-s-s-top-dark-teal?size=XL', 'size': 'XL', 'ask_price': 129, 'highest_bid': 15, 'lowest_ask': 120, 'spread': 114, 'expires': 'EXPIRED'}\n",
      "{'link': 'https://stockx.com/supreme-waist-bag-fw20-black', 'size': 'N/A', 'ask_price': 189, 'highest_bid': 88, 'lowest_ask': 99, 'spread': 101, 'expires': 'EXPIRED'}\n",
      "{'link': 'https://stockx.com/supreme-contrast-boonie-ss20-black?size=S/M', 'size': 'S/M', 'ask_price': 119, 'highest_bid': 39, 'lowest_ask': 56, 'spread': 79, 'expires': 'EXPIRED'}\n",
      "{'link': 'https://stockx.com/supreme-s-logo-new-era-black?size=7%203/8', 'size': '7 3/8', 'ask_price': 109, 'highest_bid': 65, 'lowest_ask': 79, 'spread': 44, 'expires': 'EXPIRED'}\n",
      "{'link': 'https://stockx.com/supreme-washed-chino-twill-camp-cap-fw20-natural', 'size': 'N/A', 'ask_price': 109, 'highest_bid': 75, 'lowest_ask': 85, 'spread': 34, 'expires': 'EXPIRED'}\n",
      "{'link': 'https://stockx.com/supreme-crossover-beanie-black', 'size': 'N/A', 'ask_price': 109, 'highest_bid': 50, 'lowest_ask': 70, 'spread': 59, 'expires': 'EXPIRED'}\n",
      "{'link': 'https://stockx.com/supreme-s-logo-new-era-black?size=7%203/8', 'size': '7 3/8', 'ask_price': 109, 'highest_bid': 65, 'lowest_ask': 79, 'spread': 44, 'expires': 'EXPIRED'}\n",
      "{'link': 'https://stockx.com/supreme-s-logo-new-era-black?size=7%205/8', 'size': '7 5/8', 'ask_price': 109, 'highest_bid': 70, 'lowest_ask': 94, 'spread': 39, 'expires': 'EXPIRED'}\n",
      "{'link': 'https://stockx.com/supreme-ichi-the-killer-l-s-tee-light-purple?size=L', 'size': 'L', 'ask_price': 119, 'highest_bid': 60, 'lowest_ask': 89, 'spread': 59, 'expires': 'EXPIRED'}\n",
      "{'link': 'https://stockx.com/supreme-split-tee-black?size=XL', 'size': 'XL', 'ask_price': 109, 'highest_bid': 45, 'lowest_ask': 50, 'spread': 64, 'expires': 'EXPIRED'}\n",
      "{'link': 'https://stockx.com/kith-x-coca-cola-logo-cap-black', 'size': 'N/A', 'ask_price': 109, 'highest_bid': 57, 'lowest_ask': 92, 'spread': 51, 'expires': 'EXPIRED'}\n",
      "{'link': 'https://stockx.com/supreme-yohji-yamamoto-scribble-portrait-tee-white?size=M', 'size': 'M', 'ask_price': 109, 'highest_bid': 53, 'lowest_ask': 62, 'spread': 56, 'expires': 'EXPIRED'}\n",
      "{'link': 'https://stockx.com/supreme-flags-boonie-woodland-camo?size=S/M', 'size': 'S/M', 'ask_price': 139, 'highest_bid': -1, 'lowest_ask': 85, 'spread': -1, 'expires': 'EXPIRED'}\n",
      "{'link': 'https://stockx.com/supreme-futura-logo-tee-ash-grey?size=M', 'size': 'M', 'ask_price': 99, 'highest_bid': 47, 'lowest_ask': 50, 'spread': 51, 'expires': 'EXPIRED'}\n",
      "{'link': 'https://stockx.com/palace-spitfire-p-fire-t-shirt-black?size=L', 'size': 'L', 'ask_price': 99, 'highest_bid': 25, 'lowest_ask': 68, 'spread': 74, 'expires': 'EXPIRED'}\n",
      "{'link': 'https://stockx.com/supreme-social-tee-navy?size=S', 'size': 'S', 'ask_price': 99, 'highest_bid': 15, 'lowest_ask': 80, 'spread': 84, 'expires': 'EXPIRED'}\n",
      "{'link': 'https://stockx.com/kith-x-coca-cola-language-bottle-vintage-tee-white?size=XS', 'size': 'XS', 'ask_price': 119, 'highest_bid': 70, 'lowest_ask': 80, 'spread': 49, 'expires': 'EXPIRED'}\n",
      "{'link': 'https://stockx.com/supreme-anno-domini-tee-light-purple?size=M', 'size': 'M', 'ask_price': 89, 'highest_bid': 45, 'lowest_ask': 59, 'spread': 44, 'expires': 'EXPIRED'}\n",
      "{'link': 'https://stockx.com/supreme-anno-domini-tee-black?size=S', 'size': 'S', 'ask_price': 79, 'highest_bid': 45, 'lowest_ask': 75, 'spread': 34, 'expires': 'EXPIRED'}\n",
      "{'link': 'https://stockx.com/supreme-shedrain-transparent-checkerboard-umbrella-black', 'size': 'N/A', 'ask_price': 65, 'highest_bid': 46, 'lowest_ask': 55, 'spread': 19, 'expires': 'EXPIRED'}\n",
      "{'link': 'https://stockx.com/anti-social-social-club-weird-cap-black', 'size': 'N/A', 'ask_price': 75, 'highest_bid': 56, 'lowest_ask': 98, 'spread': 19, 'expires': 'EXPIRED'}\n",
      "{'link': 'https://stockx.com/anti-social-social-club-weird-cap-black', 'size': 'N/A', 'ask_price': 75, 'highest_bid': 56, 'lowest_ask': 98, 'spread': 19, 'expires': 'EXPIRED'}\n",
      "{'link': 'https://stockx.com/anti-social-social-club-logo-2-tee-ss20-black?size=M', 'size': 'M', 'ask_price': 75, 'highest_bid': 42, 'lowest_ask': 62, 'spread': 33, 'expires': 'EXPIRED'}\n",
      "{'link': 'https://stockx.com/anti-social-social-club-logo-2-tee-ss20-black?size=XS', 'size': 'XS', 'ask_price': 75, 'highest_bid': -1, 'lowest_ask': 62, 'spread': -1, 'expires': 'EXPIRED'}\n",
      "{'link': 'https://stockx.com/supreme-daniel-johnston-hooded-sweatshirt-dark-royal?size=M', 'size': 'M', 'ask_price': 180, 'highest_bid': 117, 'lowest_ask': 148, 'spread': 63, 'expires': 'EXPIRED'}\n",
      "{'link': 'https://stockx.com/palace-xx-longsleeve-navy?size=M', 'size': 'M', 'ask_price': 100, 'highest_bid': 66, 'lowest_ask': 80, 'spread': 33, 'expires': 'EXPIRED'}\n",
      "{'link': 'https://stockx.com/supreme-kanji-logo-crewneck-heather-grey?size=L', 'size': 'L', 'ask_price': 251, 'highest_bid': 175, 'lowest_ask': 214, 'spread': 76, 'expires': 'EXPIRED'}\n",
      "{'link': 'https://stockx.com/ftp-10-year-jacket-white?size=M', 'size': 'M', 'ask_price': 100, 'highest_bid': 20, 'lowest_ask': 120, 'spread': 80, 'expires': 'EXPIRED'}\n",
      "{'link': 'https://stockx.com/nike-air-force-1-low-supreme-box-logo-black?size=10', 'size': '10', 'ask_price': 251, 'highest_bid': 184, 'lowest_ask': 224, 'spread': 67, 'expires': 'EXPIRED'}\n",
      "{'link': 'https://stockx.com/palace-flippin-roach-book-multi', 'size': 'N/A', 'ask_price': 22, 'highest_bid': -1, 'lowest_ask': -1, 'spread': -1, 'expires': 'EXPIRED'}\n",
      "{'link': 'https://stockx.com/supreme-daniel-johnston-tee-light-teal?size=XL', 'size': 'XL', 'ask_price': 58, 'highest_bid': 35, 'lowest_ask': 55, 'spread': 23, 'expires': 'EXPIRED'}\n",
      "{'link': 'https://stockx.com/supreme-signature-s-s-top-peach?size=XL', 'size': 'XL', 'ask_price': 60, 'highest_bid': 20, 'lowest_ask': -1, 'spread': 40, 'expires': 'EXPIRED'}\n",
      "{'link': 'https://stockx.com/supreme-overdyed-beanie-ss20-white', 'size': 'N/A', 'ask_price': 90, 'highest_bid': 86, 'lowest_ask': 110, 'spread': 4, 'expires': 'EXPIRED'}\n",
      "{'link': 'https://stockx.com/palace-tri-zooted-shakka-t-shirt-black?size=S', 'size': 'S', 'ask_price': 75, 'highest_bid': 60, 'lowest_ask': 75, 'spread': 14, 'expires': 'EXPIRED'}\n",
      "{'link': 'https://stockx.com/supreme-the-north-face-rtg-backpack-bright-red', 'size': 'N/A', 'ask_price': 249, 'highest_bid': 165, 'lowest_ask': 191, 'spread': 83, 'expires': 'EXPIRED'}\n",
      "{'link': 'https://stockx.com/supreme-the-north-face-rtg-utility-pouch-gold', 'size': 'N/A', 'ask_price': 99, 'highest_bid': 66, 'lowest_ask': 70, 'spread': 33, 'expires': 'EXPIRED'}\n",
      "{'link': 'https://stockx.com/supreme-mesh-panel-water-short-grey?size=S', 'size': 'S', 'ask_price': 249, 'highest_bid': 129, 'lowest_ask': 160, 'spread': 119, 'expires': 'EXPIRED'}\n",
      "{'link': 'https://stockx.com/supreme-debossed-glass-ashtray-clear', 'size': 'N/A', 'ask_price': 69, 'highest_bid': 50, 'lowest_ask': 72, 'spread': 19, 'expires': 'EXPIRED'}\n",
      "{'link': 'https://stockx.com/supreme-waist-bag-ss20-blue-desert-camo', 'size': 'N/A', 'ask_price': 194, 'highest_bid': 126, 'lowest_ask': 150, 'spread': 68, 'expires': 'EXPIRED'}\n",
      "{'link': 'https://stockx.com/supreme-terry-short-white?size=S', 'size': 'S', 'ask_price': 179, 'highest_bid': 15, 'lowest_ask': -1, 'spread': 164, 'expires': 'EXPIRED'}\n",
      "{'link': 'https://stockx.com/supreme-trail-camp-cap-black', 'size': 'N/A', 'ask_price': 104, 'highest_bid': 53, 'lowest_ask': 78, 'spread': 51, 'expires': 'EXPIRED'}\n",
      "{'link': 'https://stockx.com/supreme-trail-camp-cap-blue', 'size': 'N/A', 'ask_price': 95, 'highest_bid': 54, 'lowest_ask': 65, 'spread': 40, 'expires': 'EXPIRED'}\n",
      "{'link': 'https://stockx.com/supreme-rhinestone-baseball-jersey-pinstripe?size=XL', 'size': 'XL', 'ask_price': 259, 'highest_bid': 15, 'lowest_ask': 188, 'spread': 244, 'expires': 'EXPIRED'}\n",
      "{'link': 'https://stockx.com/palace-tri-phone-t-shirt-black?size=M', 'size': 'M', 'ask_price': 73, 'highest_bid': 50, 'lowest_ask': 69, 'spread': 23, 'expires': 'EXPIRED'}\n",
      "{'link': 'https://stockx.com/palace-tri-phone-t-shirt-white?size=S', 'size': 'S', 'ask_price': 74, 'highest_bid': 25, 'lowest_ask': 67, 'spread': 49, 'expires': 'EXPIRED'}\n",
      "{'link': 'https://stockx.com/supreme-daniel-johnston-beanie-black', 'size': 'N/A', 'ask_price': 57, 'highest_bid': 42, 'lowest_ask': 49, 'spread': 15, 'expires': 'EXPIRED'}\n",
      "{'link': 'https://stockx.com/supreme-waves-crusher-multicolor?size=S/M', 'size': 'S/M', 'ask_price': 139, 'highest_bid': 36, 'lowest_ask': 77, 'spread': 102, 'expires': 'EXPIRED'}\n",
      "{'link': 'https://stockx.com/supreme-terry-short-black?size=S', 'size': 'S', 'ask_price': 259, 'highest_bid': 16, 'lowest_ask': 170, 'spread': 243, 'expires': 'EXPIRED'}\n",
      "{'link': 'https://stockx.com/supreme-sailboat-tee-white?size=XL', 'size': 'XL', 'ask_price': 129, 'highest_bid': 52, 'lowest_ask': 57, 'spread': 77, 'expires': 'EXPIRED'}\n",
      "{'link': 'https://stockx.com/supreme-daniel-johnston-frog-tee-white?size=L', 'size': 'L', 'ask_price': 65, 'highest_bid': 30, 'lowest_ask': 50, 'spread': 34, 'expires': 'EXPIRED'}\n",
      "{'link': 'https://stockx.com/supreme-the-north-face-floating-key-chain-gold', 'size': 'N/A', 'ask_price': 33, 'highest_bid': 15, 'lowest_ask': 24, 'spread': 18, 'expires': 'EXPIRED'}\n",
      "{'link': 'https://stockx.com/supreme-cherries-tee-white?size=M', 'size': 'M', 'ask_price': 99, 'highest_bid': 65, 'lowest_ask': 80, 'spread': 34, 'expires': 'EXPIRED'}\n"
     ]
    }
   ],
   "source": [
    "for item in selling_list_read:\n",
    "    item['size'] = item['size'].replace('Size: ', '')\n",
    "    item['ask_price'] = int(item['ask_price'].replace('$', '')) if item['ask_price'] != '--' else -1\n",
    "    item['highest_bid'] = int(item['highest_bid'].replace('$', '')) if item['highest_bid'] != '--' else -1\n",
    "    item['lowest_ask'] = int(item['lowest_ask'].replace('$', '')) if item['lowest_ask'] != '--' else -1\n",
    "    item['spread'] = int(item['spread'].replace('$', '')) if item['spread'] != '--' else -1\n",
    "    item['size'] = item['size'].replace('Size: ', '')\n",
    "    print(item)"
   ]
  },
  {
   "cell_type": "code",
   "execution_count": 37,
   "metadata": {},
   "outputs": [],
   "source": [
    "with open(\"selling_list.json\", 'w') as f:\n",
    "    json.dump(selling_list_read, f)\n",
    "with open('selling_list.pkl', 'wb') as f:\n",
    "    pickle.dump(selling_list_read, f)"
   ]
  },
  {
   "cell_type": "code",
   "execution_count": null,
   "metadata": {},
   "outputs": [],
   "source": []
  }
 ],
 "metadata": {
  "kernelspec": {
   "display_name": "stockx",
   "language": "python",
   "name": "stockx"
  },
  "language_info": {
   "codemirror_mode": {
    "name": "ipython",
    "version": 3
   },
   "file_extension": ".py",
   "mimetype": "text/x-python",
   "name": "python",
   "nbconvert_exporter": "python",
   "pygments_lexer": "ipython3",
   "version": "3.7.9"
  }
 },
 "nbformat": 4,
 "nbformat_minor": 4
}
